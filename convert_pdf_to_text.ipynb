{
 "cells": [
  {
   "cell_type": "code",
   "execution_count": 1,
   "metadata": {},
   "outputs": [],
   "source": [
    "from pdfminer.pdfinterp import PDFResourceManager, PDFPageInterpreter\n",
    "from pdfminer.converter import TextConverter\n",
    "from pdfminer.layout import LAParams\n",
    "from pdfminer.pdfdocument import PDFDocument\n",
    "from pdfminer.pdfpage import PDFPage\n",
    "from pdfminer.pdfparser import PDFParser\n",
    "from io import StringIO"
   ]
  },
  {
   "cell_type": "code",
   "execution_count": null,
   "metadata": {},
   "outputs": [],
   "source": []
  },
  {
   "cell_type": "code",
   "execution_count": 2,
   "metadata": {},
   "outputs": [],
   "source": [
    "file_1 = 'CNN_01.pdf'\n",
    "file_2 = '08852123.pdf'\n",
    "file_3 = '2019_uda.pdf'"
   ]
  },
  {
   "cell_type": "markdown",
   "metadata": {},
   "source": [
    "방법 1 : pdfminer\n"
   ]
  },
  {
   "cell_type": "code",
   "execution_count": 6,
   "metadata": {},
   "outputs": [],
   "source": [
    "def convert_pdf_to_txt(file_name):\n",
    "    \n",
    "    resource_manager = PDFResourceManager()\n",
    "    \n",
    "    string_io = StringIO()\n",
    "    codec = 'utf-8'\n",
    "    la_params = LAParams()\n",
    "    \n",
    "    #device = TextConverter(resource_manager, string_io, codec=codec, laparams=la_params)\n",
    "    device = TextConverter(resource_manager, string_io, laparams=la_params)\n",
    "    \n",
    "    file_pointer = open(file_name, 'rb')\n",
    "    \n",
    "    interpreter = PDFPageInterpreter(resource_manager, device)\n",
    "    password = ''\n",
    "    max_pages=0\n",
    "    \n",
    "    caching= True\n",
    "    \n",
    "    pagenos = set()\n",
    "    \n",
    "    for page in PDFPage.get_pages(file_pointer, pagenos, maxpages=max_pages, password=password,\n",
    "                                 caching=caching, check_extractable=True): \n",
    "        interpreter.process_page(page)\n",
    "    ext_txt = string_io.getvalue()\n",
    "    \n",
    "    file_pointer.close()\n",
    "    device.close()\n",
    "    string_io.close()\n",
    "    \n",
    "    #print(ext_txt)\n",
    "    \n",
    "    return ext_txt"
   ]
  },
  {
   "cell_type": "code",
   "execution_count": null,
   "metadata": {},
   "outputs": [],
   "source": []
  },
  {
   "cell_type": "code",
   "execution_count": 7,
   "metadata": {},
   "outputs": [],
   "source": [
    "ext_txt = convert_pdf_to_txt(file_2)"
   ]
  },
  {
   "cell_type": "code",
   "execution_count": 8,
   "metadata": {},
   "outputs": [],
   "source": [
    "f = open(\"08852123_pdfminer.txt\", 'w')\n",
    "f.write(ext_txt)\n",
    "f.close()"
   ]
  },
  {
   "cell_type": "code",
   "execution_count": null,
   "metadata": {},
   "outputs": [],
   "source": []
  },
  {
   "cell_type": "markdown",
   "metadata": {},
   "source": [
    "방법 1 : PDFMINER"
   ]
  },
  {
   "cell_type": "code",
   "execution_count": 9,
   "metadata": {},
   "outputs": [],
   "source": [
    "def read_pdf_PDFMINER(pdf_file_path):\n",
    "    \"\"\"\n",
    "    pdf_file_path: 'dir/aaa.pdf'로 구성된 path로부터 \n",
    "    내부의 text 파일을 모두 읽어서 스트링을 리턴함.\n",
    "    https://pdfminersix.readthedocs.io/en/latest/tutorials/composable.html\n",
    "    \"\"\"\n",
    "    output_string = StringIO()\n",
    "    with open(pdf_file_path, 'rb') as f:\n",
    "        parser = PDFParser(f)\n",
    "        doc = PDFDocument(parser)\n",
    "        rsrcmgr = PDFResourceManager()\n",
    "        device = TextConverter(rsrcmgr, output_string, laparams=LAParams())\n",
    "        interpreter = PDFPageInterpreter(rsrcmgr, device)\n",
    "        for page in PDFPage.create_pages(doc):\n",
    "            interpreter.process_page(page)\n",
    "    return str(output_string.getvalue())"
   ]
  },
  {
   "cell_type": "code",
   "execution_count": 10,
   "metadata": {},
   "outputs": [],
   "source": [
    "text_2 = read_pdf_PDFMINER(file_2)"
   ]
  },
  {
   "cell_type": "code",
   "execution_count": 11,
   "metadata": {},
   "outputs": [
    {
     "name": "stdout",
     "output_type": "stream",
     "text": [
      "/home/hyerin/work/repos/10_PDF_Extraction\r\n"
     ]
    }
   ],
   "source": [
    "!pwd"
   ]
  },
  {
   "cell_type": "code",
   "execution_count": 12,
   "metadata": {},
   "outputs": [],
   "source": [
    "f = open(\"08852123(3).txt\", 'w')\n",
    "f.write(text_2)\n",
    "f.close()"
   ]
  },
  {
   "cell_type": "code",
   "execution_count": null,
   "metadata": {},
   "outputs": [],
   "source": []
  },
  {
   "cell_type": "code",
   "execution_count": null,
   "metadata": {},
   "outputs": [],
   "source": []
  },
  {
   "cell_type": "markdown",
   "metadata": {},
   "source": [
    "방법 2 pdftotext"
   ]
  },
  {
   "cell_type": "code",
   "execution_count": 14,
   "metadata": {},
   "outputs": [],
   "source": [
    "import pdftotext"
   ]
  },
  {
   "cell_type": "code",
   "execution_count": 15,
   "metadata": {},
   "outputs": [],
   "source": [
    "f = open(\"./08852123.pdf\", 'rb')\n",
    "fileReader = pdftotext.PDF(f)\n",
    "f.close()"
   ]
  },
  {
   "cell_type": "code",
   "execution_count": 16,
   "metadata": {},
   "outputs": [],
   "source": [
    "# print(fileReader[0])"
   ]
  },
  {
   "cell_type": "code",
   "execution_count": 17,
   "metadata": {},
   "outputs": [],
   "source": [
    "f = open(\"(4)_pdftotext_08852123.txt\", 'w')\n",
    "\n",
    "for page in fileReader:\n",
    "#     print(page)\n",
    "    f.write(page)\n",
    "    \n",
    "f.close()"
   ]
  },
  {
   "cell_type": "code",
   "execution_count": null,
   "metadata": {},
   "outputs": [],
   "source": []
  },
  {
   "cell_type": "code",
   "execution_count": null,
   "metadata": {},
   "outputs": [],
   "source": []
  },
  {
   "cell_type": "code",
   "execution_count": null,
   "metadata": {},
   "outputs": [],
   "source": []
  },
  {
   "cell_type": "code",
   "execution_count": null,
   "metadata": {},
   "outputs": [],
   "source": []
  },
  {
   "cell_type": "markdown",
   "metadata": {},
   "source": [
    "방법 3: PyPDF2 -> 띄어쓰기 제거됨. 수식 제대로 읽지 못함"
   ]
  },
  {
   "cell_type": "code",
   "execution_count": 18,
   "metadata": {},
   "outputs": [
    {
     "name": "stdout",
     "output_type": "stream",
     "text": [
      "8\n"
     ]
    }
   ],
   "source": [
    "# importing required modules  \n",
    "import PyPDF2  \n",
    "    \n",
    "# creating a pdf file object  \n",
    "pdfFileObj = open(file_2, 'rb')  \n",
    "    \n",
    "# creating a pdf reader object  \n",
    "pdfReader = PyPDF2.PdfFileReader(pdfFileObj)  \n",
    "    \n",
    "# printing number of pages in pdf file  \n",
    "print(pdfReader.numPages)  \n",
    "   \n",
    "# creating a page object  \n",
    "pageObj = pdfReader.getPage(0)  \n",
    "    \n",
    "# extracting text from page  \n",
    "# print(pageObj.extractText())  \n",
    "text_3 = pageObj.extractText()\n",
    "    \n",
    "# closing the pdf file object  \n",
    "pdfFileObj.close()  "
   ]
  },
  {
   "cell_type": "code",
   "execution_count": 19,
   "metadata": {},
   "outputs": [],
   "source": [
    "f = open(\"08852123_pypdf2.txt\", 'w')\n",
    "f.write(text_3)\n",
    "f.close()"
   ]
  },
  {
   "cell_type": "code",
   "execution_count": null,
   "metadata": {},
   "outputs": [],
   "source": []
  },
  {
   "cell_type": "markdown",
   "metadata": {},
   "source": [
    "방법 4 : tika"
   ]
  },
  {
   "cell_type": "code",
   "execution_count": 21,
   "metadata": {},
   "outputs": [],
   "source": [
    "from tika import parser"
   ]
  },
  {
   "cell_type": "code",
   "execution_count": null,
   "metadata": {},
   "outputs": [
    {
     "name": "stderr",
     "output_type": "stream",
     "text": [
      "2022-02-15 13:21:15,724 [MainThread  ] [INFO ]  Retrieving http://search.maven.org/remotecontent?filepath=org/apache/tika/tika-server/1.24/tika-server-1.24.jar to /tmp/tika-server.jar.\n",
      "INFO:tika.tika:Retrieving http://search.maven.org/remotecontent?filepath=org/apache/tika/tika-server/1.24/tika-server-1.24.jar to /tmp/tika-server.jar.\n",
      "2022-02-15 13:21:25,988 [MainThread  ] [INFO ]  Retrieving http://search.maven.org/remotecontent?filepath=org/apache/tika/tika-server/1.24/tika-server-1.24.jar.md5 to /tmp/tika-server.jar.md5.\n",
      "INFO:tika.tika:Retrieving http://search.maven.org/remotecontent?filepath=org/apache/tika/tika-server/1.24/tika-server-1.24.jar.md5 to /tmp/tika-server.jar.md5.\n",
      "2022-02-15 13:21:27,135 [MainThread  ] [WARNI]  Failed to see startup log message; retrying...\n",
      "WARNING:tika.tika:Failed to see startup log message; retrying...\n"
     ]
    }
   ],
   "source": [
    "raw = parser.from_file(file_2)\n",
    "content = raw['content']\n",
    "# print(content.strip())\n",
    "text_4 = content.strip()"
   ]
  },
  {
   "cell_type": "code",
   "execution_count": null,
   "metadata": {},
   "outputs": [],
   "source": [
    "#print(content.strip())"
   ]
  },
  {
   "cell_type": "code",
   "execution_count": null,
   "metadata": {},
   "outputs": [],
   "source": [
    "f = open(\"08852123(4).txt\", 'w')\n",
    "f.write(text_4)\n",
    "f.close()"
   ]
  },
  {
   "cell_type": "code",
   "execution_count": null,
   "metadata": {},
   "outputs": [],
   "source": []
  },
  {
   "cell_type": "markdown",
   "metadata": {},
   "source": [
    "PDF 테이블 추출"
   ]
  },
  {
   "cell_type": "code",
   "execution_count": null,
   "metadata": {},
   "outputs": [],
   "source": [
    "import tabula\n",
    "tabula.environment_info()"
   ]
  },
  {
   "cell_type": "code",
   "execution_count": null,
   "metadata": {},
   "outputs": [],
   "source": []
  },
  {
   "cell_type": "markdown",
   "metadata": {},
   "source": [
    "방법 5 : tika +  BeautifulSoup (페이지단위접근가능) <p>\n",
    "https://stackoverflow.com/questions/53093531/python-apache-tika-single-page-parser"
   ]
  },
  {
   "cell_type": "code",
   "execution_count": null,
   "metadata": {},
   "outputs": [],
   "source": [
    "from tika import parser\n",
    "import re\n",
    "\n",
    "file_1 = 'test_1.pdf'\n",
    "file_2 = '08852123.pdf'\n",
    "file_3 = '2019_uda.pdf'\n",
    "\n",
    "file_name = file_2\n",
    "\n",
    "# running: java -jar tika-server1.18.jar before executing code below. \n",
    "parsedPDF = parser.from_file(file_name)\n",
    "\n",
    "fulltext = parsedPDF['content']\n",
    "\n",
    "# metadata_dict = parsedPDF['metadata']\n",
    "# title = metadata_dict['title']\n",
    "# author = metadata_dict['Author'] # capturing all the names from lets say 15 pages. Just want it to capture from first page \n",
    "# pages = metadata_dict['xmpTPg:NPages']"
   ]
  },
  {
   "cell_type": "code",
   "execution_count": null,
   "metadata": {},
   "outputs": [],
   "source": [
    "# print(parsedPDF)"
   ]
  },
  {
   "cell_type": "code",
   "execution_count": null,
   "metadata": {},
   "outputs": [],
   "source": [
    "print(author)"
   ]
  },
  {
   "cell_type": "code",
   "execution_count": null,
   "metadata": {},
   "outputs": [],
   "source": [
    "def extract_pages(filename):\n",
    "    raw_xml = parser.from_file(filename, xmlContent=True)\n",
    "    body = raw_xml['content'].split('<body>')[1].split('</body>')[0]\n",
    "    \n",
    "    body = body.replace('- <\\p>\\n <p>', '-\\n')\n",
    "    body = body.replace('-\\n', '')#.replace('\\n', \" \")#.replace(\"<p>\", \"\\n\").replace(\"</p>\", \"\\n\")#.replace(\"</p> <p>\", \"\\n \\n\")\n",
    "    body = body.replace('\\n', ' ')\n",
    "    body = body.replace('</p>', '</p>\\n')\n",
    "\n",
    "    # 문장 사이에 연결되지 않는 공백 제거\n",
    "    regex_10 = re.compile('\\w\\s*[\\<][\\/][p][\\>]\\s+[\\<][p][\\>]\\s*[0-9(a-z]') \n",
    "    what = regex_10.findall(body)\n",
    "    for index in range(len(what)):\n",
    "        body = body.replace(what[index], what[index][0]+\" \"+what[index][len(what[index])-1])\n",
    "\n",
    "    # 특수문자 제거\n",
    "    regex_11 = re.compile('[\\<][p][\\>][(\\d+)(...)(...)(. . .)(&lt;)(&gt;)±Π•−µπλ∈Π∂βρ〈〉∑(⊗)⊗={×ηα|+o·θ∗].+[\\<][\\/][p][\\>]')\n",
    "    what = regex_11.findall(body)\n",
    "    for index in range(len(what)):\n",
    "        body = body.replace(what[index], '')\n",
    "    \n",
    "    # 문장이 아닌 구문을 제외\n",
    "    regex_12 = re.compile('[\\<][p][\\>].*[\\/][p][\\>]')\n",
    "    what = regex_12.findall(body)\n",
    "    regex_12_2 = re.compile('\\w\\w[\\.]')\n",
    "    regex_12_3 = re.compile('\\w\\w[\\:]')\n",
    "    for index in range(len(what)):\n",
    "        # .으로 끝나는 문장 찾기\n",
    "        find_2 = regex_12_2.findall(what[index])\n",
    "        if len(find_2) == 0:  # .으로 끝나는 문장이 없는 경우 삭제\n",
    "            find_3 = regex_12_3.findall(what[index]) \n",
    "            if len(find_3) == 0:  # .으로 끝나지는 않지만 : 으로 끝나는 문장 찾기\n",
    "                body = body.replace(what[index], \"\")\n",
    "    \n",
    "    # 공백라인 제거\n",
    "    regex_13 = re.compile('[\\>]\\s+[\\<][p]') \n",
    "    what = regex_13.findall(body)\n",
    "    for index in range(len(what)):\n",
    "        body = body.replace(what[index], '>\\n<p' )               \n",
    "\n",
    "    body = body.replace(\"</p>\", '').replace(\"<p>\", '').replace(\"<p />\", '')\n",
    "    \n",
    "    # html 태그 제거 \n",
    "    regex_14 = re.compile('[\\<].*[\\>].*[\\<][\\/].*[\\>]')  #re.compile('[\\<][d][i][v].*[d][i][v][\\>]')\n",
    "    what = regex_14.findall(body)\n",
    "    for index in range(len(what)):\n",
    "        body = body.replace(what[index], '\\n' )\n",
    "    \n",
    "    # 제거 되지 않은 html 부분 한번 더 제거\n",
    "    what = regex_14.findall(body)\n",
    "    for index in range(len(what)):\n",
    "        print(what[index])\n",
    "        body = body.replace(what[index], '\\n' )\n",
    "        \n",
    "    body = body.replace(\"</div>\", '')\n",
    "        \n",
    "    text_pages = body.split(\"\"\"<div class=\"page\">\"\"\")[1:]\n",
    "\n",
    "    return text_pages"
   ]
  },
  {
   "cell_type": "code",
   "execution_count": null,
   "metadata": {},
   "outputs": [],
   "source": []
  },
  {
   "cell_type": "code",
   "execution_count": null,
   "metadata": {
    "scrolled": true
   },
   "outputs": [],
   "source": [
    "separated_pages = extract_pages(file_name)\n",
    "# print(separated_pages[0])"
   ]
  },
  {
   "cell_type": "code",
   "execution_count": null,
   "metadata": {},
   "outputs": [],
   "source": [
    "print(len(separated_pages))"
   ]
  },
  {
   "cell_type": "code",
   "execution_count": null,
   "metadata": {},
   "outputs": [],
   "source": [
    "import os"
   ]
  },
  {
   "cell_type": "code",
   "execution_count": null,
   "metadata": {},
   "outputs": [],
   "source": [
    "new_txt_name = file_name.split(\".\")[0]\n",
    "directory = \"./\"+new_txt_name\n",
    "try:\n",
    "    if not os.path.exists(directory):\n",
    "        os.makedirs(directory)\n",
    "except OSError:\n",
    "    print ('Error: Creating directory. ' +  directory)\n",
    "\n",
    "# f = open(directory+\"/\"+new_txt_name+\".txt\", 'w')\n",
    "# f.write(separated_pages)\n",
    "# f.close()\n",
    "\n",
    "for page_index in range(len(separated_pages)):\n",
    "    f = open(directory+\"/\"+new_txt_name+\"_\"+str(page_index+1)+\".txt\", 'w')\n",
    "    f.write(separated_pages[page_index])\n",
    "    f.close()\n"
   ]
  },
  {
   "cell_type": "code",
   "execution_count": null,
   "metadata": {},
   "outputs": [],
   "source": []
  }
 ],
 "metadata": {
  "kernelspec": {
   "display_name": "Python 3",
   "language": "python",
   "name": "python3"
  },
  "language_info": {
   "codemirror_mode": {
    "name": "ipython",
    "version": 3
   },
   "file_extension": ".py",
   "mimetype": "text/x-python",
   "name": "python",
   "nbconvert_exporter": "python",
   "pygments_lexer": "ipython3",
   "version": "3.6.9"
  }
 },
 "nbformat": 4,
 "nbformat_minor": 4
}
